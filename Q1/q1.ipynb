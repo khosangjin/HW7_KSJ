{
 "cells": [
  {
   "cell_type": "code",
   "execution_count": 13,
   "id": "f3c6bd21",
   "metadata": {},
   "outputs": [
    {
     "name": "stdout",
     "output_type": "stream",
     "text": [
      "\n",
      "Eigenvalues : [-0.37228132  5.37228132]\n",
      "\n",
      "Eigenvectors :\n",
      " [[-0.82456484 -0.41597356]\n",
      " [ 0.56576746 -0.90937671]]\n",
      "\n",
      "Determinant : -2.0000000000000004\n",
      "\n",
      "Cross product : [-3  6 -3]\n",
      "\n",
      "Solution :\n",
      " [[-1.]\n",
      " [-4.]\n",
      " [ 3.]]\n"
     ]
    }
   ],
   "source": [
    "import numpy as np\n",
    "\n",
    "if __name__ == \"__main__\" :\n",
    "    arr = np.array([[1,2],[3,4]])\n",
    "\n",
    "    evalues, evectors = np.linalg.eig(arr)\n",
    "\n",
    "    det = np.linalg.det(arr)\n",
    "\n",
    "    vec1 = [1,2,3]\n",
    "    vec2 = [4,5,6]\n",
    "\n",
    "    cross_product = np.cross(vec1, vec2)\n",
    "\n",
    "    A = [[1,2,-2],[2,1,-5],[1,-4,1]]\n",
    "    b = [[-15],[-21],[18]]\n",
    "\n",
    "    x = np.linalg.solve(A,b)\n",
    "\n",
    "    print(\"\\nEigenvalues :\",evalues)\n",
    "    print(\"\\nEigenvectors :\\n\",evectors)\n",
    "    print(\"\\nDeterminant :\",det)\n",
    "    print(\"\\nCross product :\",cross_product)\n",
    "    print(\"\\nSolution :\\n\",x)"
   ]
  },
  {
   "cell_type": "code",
   "execution_count": null,
   "id": "9bcfb06a",
   "metadata": {},
   "outputs": [],
   "source": []
  }
 ],
 "metadata": {
  "kernelspec": {
   "display_name": "Python 3 (ipykernel)",
   "language": "python",
   "name": "python3"
  },
  "language_info": {
   "codemirror_mode": {
    "name": "ipython",
    "version": 3
   },
   "file_extension": ".py",
   "mimetype": "text/x-python",
   "name": "python",
   "nbconvert_exporter": "python",
   "pygments_lexer": "ipython3",
   "version": "3.9.13"
  }
 },
 "nbformat": 4,
 "nbformat_minor": 5
}
