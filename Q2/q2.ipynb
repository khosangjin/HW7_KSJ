{
 "cells": [
  {
   "cell_type": "code",
   "execution_count": 2,
   "id": "b6f55f29",
   "metadata": {},
   "outputs": [
    {
     "name": "stdout",
     "output_type": "stream",
     "text": [
      "doc1 = 0.58\n",
      "\n",
      "doc2 = 0.87\n",
      "\n",
      "doc3 = 0.67\n",
      "\n"
     ]
    }
   ],
   "source": [
    "import numpy as np\n",
    "\n",
    "def Cosine_Similarity(Doc, Query):\n",
    "  return np.dot(Doc, Query)/(np.linalg.norm(Doc)*np.linalg.norm(Query))\n",
    "\n",
    "if __name__ == \"__main__\" : \n",
    "    Docs = np.array([[1,1,0,1,0,1],[1,1,1,0,1,0],[1,1,0,1,0,0]])\n",
    "\n",
    "    Query = np.array([1,1,0,0,1,0])\n",
    "    \n",
    "    Doc1 = Docs[0,:]\n",
    "    Doc2 = Docs[1,:]\n",
    "    Doc3 = Docs[2,:]\n",
    "    \n",
    "    print(\"doc1 = {0:.2f}\\n\".format(Cosine_Similarity(Doc1,Query)))\n",
    "    print(\"doc2 = {0:.2f}\\n\".format(Cosine_Similarity(Doc2,Query)))\n",
    "    print(\"doc3 = {0:.2f}\\n\".format(Cosine_Similarity(Doc3,Query)))\n",
    "\n"
   ]
  },
  {
   "cell_type": "code",
   "execution_count": null,
   "id": "107a5736",
   "metadata": {},
   "outputs": [],
   "source": []
  }
 ],
 "metadata": {
  "kernelspec": {
   "display_name": "Python 3 (ipykernel)",
   "language": "python",
   "name": "python3"
  },
  "language_info": {
   "codemirror_mode": {
    "name": "ipython",
    "version": 3
   },
   "file_extension": ".py",
   "mimetype": "text/x-python",
   "name": "python",
   "nbconvert_exporter": "python",
   "pygments_lexer": "ipython3",
   "version": "3.9.13"
  }
 },
 "nbformat": 4,
 "nbformat_minor": 5
}
